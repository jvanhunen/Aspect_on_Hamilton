{
 "cells": [
  {
   "cell_type": "markdown",
   "metadata": {},
   "source": [
    "![](http://community.dur.ac.uk/jeroen.van-hunen/ASPECT/DU.png) "
   ]
  },
  {
   "cell_type": "markdown",
   "metadata": {},
   "source": [
    "## ASPECT installation\n",
    "Before we can run models with ASPECT, we first need to install the software. For this, you will need a terminal opened on Hamilton. I will assume that you have already access to such terminal. If not, please refer to the page [Accessing Hamilton from your own computer](./Hamilton_from_own_computer.html). \n",
    "\n",
    "Unless there are some major upgrades throughout the year, or if you are modifying ASPECT, you should have to install ASPECT only once. Depending on the installation version, this will probably take up to a couple of hours. \n",
    "\n",
    "Here are the different options: \n",
    "- If you will use a standard version of ASPECT, and are not planning to modify the code, the easiest option is to use a pre-installed version of ASPECT. If so, you could use the following installation on hamilton, which was created on 10th October, 2019: `/ddn/data/dgl6jv1/public/aspect`. You can copy this over to your allocated disk space on Hamilton with the following commands:"
   ]
  },
  {
   "cell_type": "code",
   "execution_count": 1,
   "metadata": {},
   "outputs": [
    {
     "ename": "SyntaxError",
     "evalue": "invalid syntax (<ipython-input-1-b63386fabe62>, line 1)",
     "output_type": "error",
     "traceback": [
      "\u001b[0;36m  File \u001b[0;32m\"<ipython-input-1-b63386fabe62>\"\u001b[0;36m, line \u001b[0;32m1\u001b[0m\n\u001b[0;31m    cd /ddn/data/^username^/\u001b[0m\n\u001b[0m                 ^\u001b[0m\n\u001b[0;31mSyntaxError\u001b[0m\u001b[0;31m:\u001b[0m invalid syntax\n"
     ]
    }
   ],
   "source": [
    "cd /ddn/data/^username^/\n",
    "mkdir ASPECT\n",
    "cd ASPECT\n",
    "cp /ddn/data/dgl6jv1/public/aspect ."
   ]
  },
  {
   "cell_type": "markdown",
   "metadata": {},
   "source": [
    "- If you plan to modify ASPECT, or if you want to install a non-standard version of Hamilton, you will need to install it yourself. ASPECT is built on top of a finite element software tool `deal.ii`, which is installed separately. Even if you plan to modify ASPECT, it is likely that you will still use a standard `deal.ii` version. On Hamilton, there is a `deal.ii` installation version 9.0.0, and using this pre-installed version of `deal.ii` rather than installing it yourself will significantly reduces the installation time and complexity. This approach is described further down on this page.\n",
    "- Finally, there is the option to install everything (deal.ii and ASPECT) yourself. Phil Heron has created an installation guide for that, which can be found [here](https://philheron.com/aspect-hamilton/). "
   ]
  },
  {
   "cell_type": "markdown",
   "metadata": {},
   "source": [
    "## Opening a command line 'terminal'\n",
    "Installation of ASPECT (as well as setting up and running ASPECT models) on Durham's Linux cluster Hamilton is typically done using the command line: a text terminal with which you can navigate through the computer system, and execute commands. Since we can only access Hamilton remotely, we will need to set up this terminal facility remotely too. The way to do this will depend on the computer system you have access to.\n",
    "\n",
    "- Linux OS: If you are using a Linux operating system, you are probably already familiar with command line terminals. If you use one of the computer room computers on the campus that has the option to boot with a linux OS, then you can open a terminal window by clicking on the black 'terminal' screen in top task bar, but if you are using your own linux machine with a different linux flavour, opening a terminal might be done differently.  \n",
    "- With Mac OS, click the 'Launchpad' (black rocket symbol), then 'Other', then 'Terminal'\n",
    "- Using Windows, the best way is to use the `X2Go` software, and more information on this can be found [here](./Hamilton_from_own_computer.html)."
   ]
  },
  {
   "cell_type": "markdown",
   "metadata": {},
   "source": [
    "## Logging onto Hamilton"
   ]
  },
  {
   "cell_type": "code",
   "execution_count": 2,
   "metadata": {},
   "outputs": [
    {
     "ename": "SyntaxError",
     "evalue": "invalid syntax (<ipython-input-2-b56c2f2936c8>, line 1)",
     "output_type": "error",
     "traceback": [
      "\u001b[0;36m  File \u001b[0;32m\"<ipython-input-2-b56c2f2936c8>\"\u001b[0;36m, line \u001b[0;32m1\u001b[0m\n\u001b[0;31m    ssh -X ^username^@hamilton.dur.ac.uk\u001b[0m\n\u001b[0m                     ^\u001b[0m\n\u001b[0;31mSyntaxError\u001b[0m\u001b[0;31m:\u001b[0m invalid syntax\n"
     ]
    }
   ],
   "source": [
    "ssh -X ^username^@hamilton.dur.ac.uk"
   ]
  },
  {
   "cell_type": "markdown",
   "metadata": {},
   "source": [
    "(where `^username^` should be replaced with your CIS username), and provide your CIS password. (Note that the `-X` option will allow the remote machine (i.e. Hamilton) to open windows on the machine that the terminal is run from (either `mira` or your local linux machine)). You should now be logged into the Hamilton HPC cluster."
   ]
  },
  {
   "cell_type": "markdown",
   "metadata": {},
   "source": [
    "## Settings\n",
    "The following modules need to be loaded for the installation to run properly. Last check that all modules were still available was on 11-1-2020."
   ]
  },
  {
   "cell_type": "code",
   "execution_count": 3,
   "metadata": {},
   "outputs": [
    {
     "ename": "SyntaxError",
     "evalue": "invalid syntax (<ipython-input-3-dcb2f88ecfe8>, line 1)",
     "output_type": "error",
     "traceback": [
      "\u001b[0;36m  File \u001b[0;32m\"<ipython-input-3-dcb2f88ecfe8>\"\u001b[0;36m, line \u001b[0;32m1\u001b[0m\n\u001b[0;31m    module load module-git gcc/4.9.1 cmake/3.6.2 lapack/gcc/3.5.0 zlib/gcc/1.2.7 sge/current openmpi/gcc/2.1.1 gsl/gcc/64/1.15\u001b[0m\n\u001b[0m              ^\u001b[0m\n\u001b[0;31mSyntaxError\u001b[0m\u001b[0;31m:\u001b[0m invalid syntax\n"
     ]
    }
   ],
   "source": [
    "module load module-git gcc/4.9.1 cmake/3.6.2 lapack/gcc/3.5.0 zlib/gcc/1.2.7 sge/current openmpi/gcc/2.1.1 gsl/gcc/64/1.15"
   ]
  },
  {
   "cell_type": "markdown",
   "metadata": {},
   "source": [
    "The following variables need to be set (again, last checked on 11-1-2020). For the Cshell: "
   ]
  },
  {
   "cell_type": "code",
   "execution_count": 4,
   "metadata": {},
   "outputs": [
    {
     "ename": "SyntaxError",
     "evalue": "invalid syntax (<ipython-input-4-44b40d5cb1f3>, line 1)",
     "output_type": "error",
     "traceback": [
      "\u001b[0;36m  File \u001b[0;32m\"<ipython-input-4-44b40d5cb1f3>\"\u001b[0;36m, line \u001b[0;32m1\u001b[0m\n\u001b[0;31m    setenv CC /usr/local/Cluster-Apps/openmpi/gcc-4.9.1/2.1.1/bin/mpicc\u001b[0m\n\u001b[0m            ^\u001b[0m\n\u001b[0;31mSyntaxError\u001b[0m\u001b[0;31m:\u001b[0m invalid syntax\n"
     ]
    }
   ],
   "source": [
    "setenv CC /usr/local/Cluster-Apps/openmpi/gcc-4.9.1/2.1.1/bin/mpicc\n",
    "setenv CXX /usr/local/Cluster-Apps/openmpi/gcc-4.9.1/2.1.1/bin/mpicxx\n",
    "setenv FC /usr/local/Cluster-Apps/openmpi/gcc-4.9.1/2.1.1/bin/mpif90\n",
    "setenv FF /usr/local/Cluster-Apps/openmpi/gcc-4.9.1/2.1.1/bin/mpif77"
   ]
  },
  {
   "cell_type": "markdown",
   "metadata": {},
   "source": [
    "For bash: "
   ]
  },
  {
   "cell_type": "code",
   "execution_count": 5,
   "metadata": {},
   "outputs": [
    {
     "ename": "SyntaxError",
     "evalue": "invalid syntax (<ipython-input-5-8ca6e7b02ace>, line 1)",
     "output_type": "error",
     "traceback": [
      "\u001b[0;36m  File \u001b[0;32m\"<ipython-input-5-8ca6e7b02ace>\"\u001b[0;36m, line \u001b[0;32m1\u001b[0m\n\u001b[0;31m    export CC=mpicc; export CXX=mpicxx; export FC=mpif90; export FF=mpif77\u001b[0m\n\u001b[0m            ^\u001b[0m\n\u001b[0;31mSyntaxError\u001b[0m\u001b[0;31m:\u001b[0m invalid syntax\n"
     ]
    }
   ],
   "source": [
    "export CC=mpicc; export CXX=mpicxx; export FC=mpif90; export FF=mpif77"
   ]
  },
  {
   "cell_type": "markdown",
   "metadata": {},
   "source": [
    "## Downloading ASPECT\n",
    "Using the `quota` command on Hamilton, you can check your disk space allowance. Typically, you have an allowance on the `home` disk and the `data` disk, with the latter having significantly more space, so this is where we will install Hamilton:"
   ]
  },
  {
   "cell_type": "code",
   "execution_count": 6,
   "metadata": {},
   "outputs": [
    {
     "ename": "SyntaxError",
     "evalue": "invalid syntax (<ipython-input-6-19776069529a>, line 1)",
     "output_type": "error",
     "traceback": [
      "\u001b[0;36m  File \u001b[0;32m\"<ipython-input-6-19776069529a>\"\u001b[0;36m, line \u001b[0;32m1\u001b[0m\n\u001b[0;31m    cd /ddn/data/^username^/\u001b[0m\n\u001b[0m                 ^\u001b[0m\n\u001b[0;31mSyntaxError\u001b[0m\u001b[0;31m:\u001b[0m invalid syntax\n"
     ]
    }
   ],
   "source": [
    "cd /ddn/data/^username^/\n",
    "mkdir ASPECT\n",
    "git clone https://github.com/geodynamics/aspect.git"
   ]
  },
  {
   "cell_type": "markdown",
   "metadata": {},
   "source": [
    "This will create a local `aspect` folder. Enter the folder, prepare the installation and run the installation: "
   ]
  },
  {
   "cell_type": "code",
   "execution_count": 7,
   "metadata": {},
   "outputs": [
    {
     "ename": "SyntaxError",
     "evalue": "invalid syntax (<ipython-input-7-4de2f428648e>, line 1)",
     "output_type": "error",
     "traceback": [
      "\u001b[0;36m  File \u001b[0;32m\"<ipython-input-7-4de2f428648e>\"\u001b[0;36m, line \u001b[0;32m1\u001b[0m\n\u001b[0;31m    cd aspect\u001b[0m\n\u001b[0m            ^\u001b[0m\n\u001b[0;31mSyntaxError\u001b[0m\u001b[0;31m:\u001b[0m invalid syntax\n"
     ]
    }
   ],
   "source": [
    "cd aspect\n",
    "cmake -DDEAL_II_DIR=/ddn/data/dgl6jv1/Progs/ASPECT_20181001/deal.ii-candi/tmp/build/deal.II-v9.0.0 -DCMAKE_BUILD_TYPE=release .\n",
    "make -j12"
   ]
  },
  {
   "cell_type": "markdown",
   "metadata": {},
   "source": [
    "Don't forget the `.` at the end of the `cmake` command. The `make` command will run the installation in parallel on 12 cores to speed up the installation. Typically this should take around 10 minutes or so. If all oes well, an executable file `aspect` will be created. This is a comilation in the 'debug' mode, which produces a lot of output, and is therefore using for experimenting with the code. But for a (significant) speedup, a 'release' version will need to be created. So if you prefer to keep the 'debug' version, rename it, and then comile the 'release' version:"
   ]
  },
  {
   "cell_type": "code",
   "execution_count": 8,
   "metadata": {
    "scrolled": true
   },
   "outputs": [
    {
     "ename": "SyntaxError",
     "evalue": "invalid syntax (<ipython-input-8-17f51e982caf>, line 1)",
     "output_type": "error",
     "traceback": [
      "\u001b[0;36m  File \u001b[0;32m\"<ipython-input-8-17f51e982caf>\"\u001b[0;36m, line \u001b[0;32m1\u001b[0m\n\u001b[0;31m    make release\u001b[0m\n\u001b[0m               ^\u001b[0m\n\u001b[0;31mSyntaxError\u001b[0m\u001b[0;31m:\u001b[0m invalid syntax\n"
     ]
    }
   ],
   "source": [
    "make release\n",
    "make -j12"
   ]
  },
  {
   "cell_type": "markdown",
   "metadata": {},
   "source": [
    "*Jeroen van Hunen, April 2020*"
   ]
  }
 ],
 "metadata": {
  "kernelspec": {
   "display_name": "Python 3",
   "language": "python",
   "name": "python3"
  },
  "language_info": {
   "codemirror_mode": {
    "name": "ipython",
    "version": 3
   },
   "file_extension": ".py",
   "mimetype": "text/x-python",
   "name": "python",
   "nbconvert_exporter": "python",
   "pygments_lexer": "ipython3",
   "version": "3.7.6"
  }
 },
 "nbformat": 4,
 "nbformat_minor": 2
}
