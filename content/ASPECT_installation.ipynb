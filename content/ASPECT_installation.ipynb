{
 "cells": [
  {
   "cell_type": "markdown",
   "metadata": {},
   "source": [
    "![](http://community.dur.ac.uk/jeroen.van-hunen/ASPECT/DU.png) \n",
    "# ASPECT installation on an already existing deal.ii installation\n",
    "**Jeroen van Hunen, March 2020 **"
   ]
  },
  {
   "cell_type": "markdown",
   "metadata": {},
   "source": [
    "## Open a text 'terminal'\n",
    "- Linux OS: On `mira`, this can be done by clicking on the black 'terminal' screen in top task bar, but if you are using your own linux machine, opening a terminal might be done in a slightly different way. \n",
    "- With Mac OS, click the 'Launchpad' (black rocket symbol), then 'Other', then 'Terminal'\n",
    "- Using Windows, the best way is to use the `X2Go` software, and more information on this can be found [here](http://community.dur.ac.uk/jeroen.van-hunen/ASPECT/Hamilton_from_own_computer.html)."
   ]
  },
  {
   "cell_type": "markdown",
   "metadata": {},
   "source": [
    "## Logging onto Hamilton"
   ]
  },
  {
   "cell_type": "code",
   "execution_count": null,
   "metadata": {},
   "outputs": [],
   "source": [
    "ssh -X ^username^@hamilton.dur.ac.uk"
   ]
  },
  {
   "cell_type": "markdown",
   "metadata": {},
   "source": [
    "(where `^username^` should be replaced with your CIS username), and provide your CIS password. (Note that the `-X` option will allow the remote machine (i.e. Hamilton) to open windows on the machine that the terminal is run from (either `mira` or your local linux machine)). You should now be logged into the Hamilton HPC cluster."
   ]
  },
  {
   "attachments": {},
   "cell_type": "markdown",
   "metadata": {},
   "source": [
    "## Settings\n",
    "The following modules need to be loaded for the installation to run properly. Last check that all modules were still available was on 11-1-2020."
   ]
  },
  {
   "cell_type": "code",
   "execution_count": null,
   "metadata": {},
   "outputs": [],
   "source": [
    "module load module-git gcc/4.9.1 cmake/3.6.2 lapack/gcc/3.5.0 zlib/gcc/1.2.7 sge/current openmpi/gcc/2.1.1 gsl/gcc/64/1.15"
   ]
  },
  {
   "cell_type": "markdown",
   "metadata": {},
   "source": [
    "The following variables need to be set (again, last checked on 11-1-2020). For the Cshell: "
   ]
  },
  {
   "cell_type": "code",
   "execution_count": null,
   "metadata": {},
   "outputs": [],
   "source": [
    "setenv CC /usr/local/Cluster-Apps/openmpi/gcc-4.9.1/2.1.1/bin/mpicc\n",
    "setenv CXX /usr/local/Cluster-Apps/openmpi/gcc-4.9.1/2.1.1/bin/mpicxx\n",
    "setenv FC /usr/local/Cluster-Apps/openmpi/gcc-4.9.1/2.1.1/bin/mpif90\n",
    "setenv FF /usr/local/Cluster-Apps/openmpi/gcc-4.9.1/2.1.1/bin/mpif77"
   ]
  },
  {
   "cell_type": "markdown",
   "metadata": {},
   "source": [
    "For bash: "
   ]
  },
  {
   "cell_type": "code",
   "execution_count": null,
   "metadata": {},
   "outputs": [],
   "source": [
    "export CC=mpicc; export CXX=mpicxx; export FC=mpif90; export FF=mpif77"
   ]
  },
  {
   "cell_type": "markdown",
   "metadata": {},
   "source": [
    "## Downloading ASPECT\n",
    "Using the `quota` command on Hamilton, you can check your disk space allowance. Typically, you have an allowance on the `home` disk and the `data` disk, with the latter having significantly more space, so this is where we will install Hamilton:"
   ]
  },
  {
   "cell_type": "code",
   "execution_count": null,
   "metadata": {},
   "outputs": [],
   "source": [
    "cd /ddn/data/^username^/\n",
    "mkdir ASPECT\n",
    "git clone https://github.com/geodynamics/aspect.git"
   ]
  },
  {
   "cell_type": "markdown",
   "metadata": {},
   "source": [
    "This will create a local `aspect` folder. Enter the folder, prepare the installation and run the installation: "
   ]
  },
  {
   "cell_type": "code",
   "execution_count": null,
   "metadata": {},
   "outputs": [],
   "source": [
    "cd aspect\n",
    "cmake -DDEAL_II_DIR=/ddn/data/dgl6jv1/Progs/ASPECT_20181001/deal.ii-candi/tmp/build/deal.II-v9.0.0 -DCMAKE_BUILD_TYPE=release .\n",
    "make -j12"
   ]
  },
  {
   "cell_type": "markdown",
   "metadata": {},
   "source": [
    "Don't forget the `.` at the end of the `cmake` command. The `make` command will run the installation in parallel on 12 cores to speed up the installation. Typically this should take around 10 minutes or so. If all oes well, an executable file `aspect` will be created. This is a comilation in the 'debug' mode, which produces a lot of output, and is therefore using for experimenting with the code. But for a (significant) speedup, a 'release' version will need to be created. So if you prefer to keep the 'debug' version, rename it, and then comile the 'release' version:"
   ]
  },
  {
   "cell_type": "code",
   "execution_count": null,
   "metadata": {
    "scrolled": true
   },
   "outputs": [],
   "source": [
    "make release\n",
    "make -j12"
   ]
  }
 ],
 "metadata": {
  "kernelspec": {
   "display_name": "Python 3",
   "language": "python",
   "name": "python3"
  },
  "language_info": {
   "codemirror_mode": {
    "name": "ipython",
    "version": 3
   },
   "file_extension": ".py",
   "mimetype": "text/x-python",
   "name": "python",
   "nbconvert_exporter": "python",
   "pygments_lexer": "ipython3",
   "version": "3.7.4"
  }
 },
 "nbformat": 4,
 "nbformat_minor": 2
}
