{
 "cells": [
  {
   "cell_type": "markdown",
   "metadata": {},
   "source": [
    "# Logging on and using Hamilton from your own computer\n",
    "This page explains how to log onto and use the Hamilton HPC cluster using your own Windows, Mac, or Linux PC or laptop, whether you are on the campus or not. \n",
    "\n",
    "## Using Hamilton from a Windows machine\n",
    "### First time installation:\n",
    "#### - download and install the X2Go software (updated on 20181006):\n",
    "- Open a web browser and go to https://wiki.x2go.org\n",
    "- In the column on the left, under 'Download', click 'Getting X2Go'\n",
    "- Under the header 'X2Go Client', there is a box, in which you can click on 'mswin' in the Download option. This will start downloading a setup wizard called 'X2GoClient_latest_mswin32_setup.exe'\n",
    "- Run the wizard, and answer a few installation questions: choosing the default option/setting is probably fine.\n",
    "\n",
    "#### - From the Windows Start button (bottom-left), run the newly installed 'X2Go Client'\n",
    "- You'll probably see a blue&grey 'X2Go Client' window being opened, and probably also a 'Session preferences - New session' window. If the latter doesn't open automatically, click 'Session' -> 'New session ...'\n",
    "- In the 'Session preferences - New session' window, enter the following info:\n",
    "  - Under \n",
    "  - When running the session for the first time, it will probably warn you that the 'Host key verification failed', and asks 'Do you trust the host key?'. This is normal, and you can sefely click 'Yes'.\n",
    "  "
   ]
  }
 ],
 "metadata": {
  "kernelspec": {
   "display_name": "Python 3",
   "language": "python",
   "name": "python3"
  },
  "language_info": {
   "codemirror_mode": {
    "name": "ipython",
    "version": 3
   },
   "file_extension": ".py",
   "mimetype": "text/x-python",
   "name": "python",
   "nbconvert_exporter": "python",
   "pygments_lexer": "ipython3",
   "version": "3.6.3"
  }
 },
 "nbformat": 4,
 "nbformat_minor": 2
}
