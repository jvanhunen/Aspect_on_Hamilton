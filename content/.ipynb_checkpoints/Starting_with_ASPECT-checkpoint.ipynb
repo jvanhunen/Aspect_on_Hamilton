{
 "cells": [
  {
   "cell_type": "markdown",
   "metadata": {},
   "source": [
    "![](http://community.dur.ac.uk/jeroen.van-hunen/ASPECT/logos.png) \n",
    "\n",
    "This page will introduce the geodynamical software ASPECT and its postprocessing. The most recent copy of the very extensive and useful ASPECT user guide is available  [here](http://www.math.clemson.edu/~heister/manual.pdf). "
   ]
  },
  {
   "cell_type": "markdown",
   "metadata": {},
   "source": [
    "In the following I will assume that you will be able to log into Durham's Hamilton HPC cluster. If not, please refer to the page [Accessing Hamilton from your own computer](./Hamilton_from_own_computer.html). Furthermore, ASPECT needs to be installed already. For more information on how to install ASPECT, please see [ASPECT installation](./ASPECT_installation.html)."
   ]
  },
  {
   "cell_type": "markdown",
   "metadata": {},
   "source": [
    "## Running calculations on Hamilton\n",
    "The first time we are going to run a calculation, we need to create a folder from where to run the model calculations. To store the data in a location with enough capacity, we will use again the `/ddn/data/^username^/` folder (where `^username^` should be replaced with your CIS username. So log into hamilton again, and run the following commands:"
   ]
  },
  {
   "cell_type": "markdown",
   "metadata": {
    "collapsed": true
   },
   "source": [
    "    cd /ddn/data/^username^\n",
    "    mkdir aspect-data\n",
    "    cd aspect-data"
   ]
  },
  {
   "cell_type": "markdown",
   "metadata": {},
   "source": [
    "You'll only have to do this once. So next time, you log onto hamilton, you can go straight to the data folder:"
   ]
  },
  {
   "cell_type": "markdown",
   "metadata": {
    "collapsed": true
   },
   "source": [
    "    cd /ddn/data/^username^/aspect-data"
   ]
  },
  {
   "cell_type": "markdown",
   "metadata": {},
   "source": [
    "Now you will need to copy over the aspect executable from the previous section to your local working folder:"
   ]
  },
  {
   "cell_type": "code",
   "execution_count": 3,
   "metadata": {
    "collapsed": true
   },
   "outputs": [
    {
     "ename": "SyntaxError",
     "evalue": "invalid syntax (<ipython-input-3-c43729515e1c>, line 1)",
     "output_type": "error",
     "traceback": [
      "\u001b[0;36m  File \u001b[0;32m\"<ipython-input-3-c43729515e1c>\"\u001b[0;36m, line \u001b[0;32m1\u001b[0m\n\u001b[0;31m    cd /ddn/data/^username^/aspect-data\u001b[0m\n\u001b[0m                 ^\u001b[0m\n\u001b[0;31mSyntaxError\u001b[0m\u001b[0;31m:\u001b[0m invalid syntax\n"
     ]
    }
   ],
   "source": [
    "cd /ddn/data/^username^/aspect-data\n",
    "cp ^location-of-aspect-executable^/^aspect-executable-name^ ."
   ]
  },
  {
   "cell_type": "markdown",
   "metadata": {},
   "source": [
    "You'll also need to create an ASPECT input file, or copy one over to this folder. For the first ASPECT calculation, I suggest we use the following input file, called Blbach1a.prm."
   ]
  },
  {
   "cell_type": "code",
   "execution_count": 4,
   "metadata": {
    "collapsed": true
   },
   "outputs": [
    {
     "ename": "SyntaxError",
     "evalue": "invalid syntax (<ipython-input-4-e51d5592bd53>, line 1)",
     "output_type": "error",
     "traceback": [
      "\u001b[0;36m  File \u001b[0;32m\"<ipython-input-4-e51d5592bd53>\"\u001b[0;36m, line \u001b[0;32m1\u001b[0m\n\u001b[0;31m    cp /ddn/data/dgl6jv1/public/Blbach1a.prm .\u001b[0m\n\u001b[0m                                              ^\u001b[0m\n\u001b[0;31mSyntaxError\u001b[0m\u001b[0;31m:\u001b[0m invalid syntax\n"
     ]
    }
   ],
   "source": [
    "cp /ddn/data/dgl6jv1/public/Blbach1a.prm .\n",
    "nano Blbach1a.prm"
   ]
  },
  {
   "cell_type": "markdown",
   "metadata": {},
   "source": [
    "This will open an *editor* in Hamilton, which, in this case, can be used to add or change text to the file `Blbach1a.prm`. Now highlight the text on the browser page, copy it (control-C), and paste it into the editor. Now save the file (control-O and then control-X).\n",
    "\n",
    "Now we have an input file for a simple convection calculation in a square unit-size box for a given Rayleigh number. The vigour of convection and resulting heat flow at the surface of the box have been calculated by many different modellers, and published in a classic paper by Blankenbach et al. (1989), and can be found [here](https://academic.oup.com/gji/article/98/1/23/622167). So we know rather exactly what the results of this calculation should be, and our ASPECT calculation should be able to give similar results. \n",
    "\n",
    "Next, we would like to run the calculation on Hamilton. If you've done the short course on Hamilton usage, you'll now know that you'll need a submission script. A example can be copied over and opened as follows: "
   ]
  },
  {
   "cell_type": "code",
   "execution_count": 5,
   "metadata": {
    "collapsed": true
   },
   "outputs": [
    {
     "ename": "SyntaxError",
     "evalue": "invalid syntax (<ipython-input-5-b09d80d3fc26>, line 1)",
     "output_type": "error",
     "traceback": [
      "\u001b[0;36m  File \u001b[0;32m\"<ipython-input-5-b09d80d3fc26>\"\u001b[0;36m, line \u001b[0;32m1\u001b[0m\n\u001b[0;31m    cp /ddn/data/dgl6jv1/public/mpi.slurm .\u001b[0m\n\u001b[0m                                           ^\u001b[0m\n\u001b[0;31mSyntaxError\u001b[0m\u001b[0;31m:\u001b[0m invalid syntax\n"
     ]
    }
   ],
   "source": [
    "cp /ddn/data/dgl6jv1/public/mpi.slurm .\n",
    "nano mpi.slurm"
   ]
  },
  {
   "cell_type": "markdown",
   "metadata": {},
   "source": [
    "Now we need to make a few changes to the file. So scroll down to the end of the file. The line "
   ]
  },
  {
   "cell_type": "code",
   "execution_count": 6,
   "metadata": {
    "collapsed": true
   },
   "outputs": [],
   "source": [
    "#SBATCH -n 8"
   ]
  },
  {
   "cell_type": "markdown",
   "metadata": {},
   "source": [
    "refers to the number of processors used in the calculation. Change the number if you like. But keep in mind that the number should correspond to the number in the last line:"
   ]
  },
  {
   "cell_type": "code",
   "execution_count": 7,
   "metadata": {
    "collapsed": true
   },
   "outputs": [
    {
     "ename": "SyntaxError",
     "evalue": "invalid syntax (<ipython-input-7-2844803b13c9>, line 1)",
     "output_type": "error",
     "traceback": [
      "\u001b[0;36m  File \u001b[0;32m\"<ipython-input-7-2844803b13c9>\"\u001b[0;36m, line \u001b[0;32m1\u001b[0m\n\u001b[0;31m    mpirun -np 8 ./aspect.rel $1\u001b[0m\n\u001b[0m               ^\u001b[0m\n\u001b[0;31mSyntaxError\u001b[0m\u001b[0;31m:\u001b[0m invalid syntax\n"
     ]
    }
   ],
   "source": [
    "mpirun -np 8 ./aspect.rel $1"
   ]
  },
  {
   "cell_type": "markdown",
   "metadata": {},
   "source": [
    "In this last line, the text `./aspect.rel` refers to the name of the ASPECT executable, which is, in this case, named `aspect.rel` and placed in the folder `.` (which is the folder you are presently located in). If you named your executable differently, you'll need to change it here.\n",
    "\n",
    "Finally, we need to specify the job queue in which we want to place the calculation. There are three useful queues we can use, and they are named `par6.q`, `par7.q`, and `test.q`. Which one to choose depends on the type of model: `par6.q` and `par7.q` are normally used for larger calculations lasting more than an hour (up to 72 hours). But if you have a small calculation running less than an hour, you can choose the `test.q` queue, which allows a maximum of 12 processors, and will automatically stop if the calculation lasts longer than an hour. The queue choice may also depend on how musy each of the queues is. Use "
   ]
  },
  {
   "cell_type": "code",
   "execution_count": 8,
   "metadata": {
    "collapsed": true
   },
   "outputs": [
    {
     "ename": "NameError",
     "evalue": "name 'sfree' is not defined",
     "output_type": "error",
     "traceback": [
      "\u001b[0;31m---------------------------------------------------------------------------\u001b[0m",
      "\u001b[0;31mNameError\u001b[0m                                 Traceback (most recent call last)",
      "\u001b[0;32m<ipython-input-8-9a6d4dd584a1>\u001b[0m in \u001b[0;36m<module>\u001b[0;34m()\u001b[0m\n\u001b[0;32m----> 1\u001b[0;31m \u001b[0msfree\u001b[0m\u001b[0;34m\u001b[0m\u001b[0m\n\u001b[0m",
      "\u001b[0;31mNameError\u001b[0m: name 'sfree' is not defined"
     ]
    }
   ],
   "source": [
    "sfree"
   ]
  },
  {
   "cell_type": "markdown",
   "metadata": {},
   "source": [
    "to see how many processors are available in each queue. Once you are happy with the modifications of the `mpi.slurm` file, close it. \n",
    "\n",
    "Finally, we need to copy over the aspect executable to the folder where we are running the calculations. Check where your aspect executable `aspect.rel` was created (if you followed Phil's installation guide, it is probably in `/ddn/data/^username^/install/aspect/`):"
   ]
  },
  {
   "cell_type": "code",
   "execution_count": 9,
   "metadata": {
    "collapsed": true
   },
   "outputs": [
    {
     "name": "stdout",
     "output_type": "stream",
     "text": [
      "cp: /ddn/data/^username^/install/aspect/aspect.rel: No such file or directory\r\n"
     ]
    }
   ],
   "source": [
    "cp /ddn/data/^username^/install/aspect/aspect.rel ."
   ]
  },
  {
   "cell_type": "markdown",
   "metadata": {},
   "source": [
    "Now it is time to run the calculation, by typing the following commands:  "
   ]
  },
  {
   "cell_type": "code",
   "execution_count": 10,
   "metadata": {
    "collapsed": true
   },
   "outputs": [
    {
     "ename": "SyntaxError",
     "evalue": "invalid syntax (<ipython-input-10-d47edf83ab72>, line 1)",
     "output_type": "error",
     "traceback": [
      "\u001b[0;36m  File \u001b[0;32m\"<ipython-input-10-d47edf83ab72>\"\u001b[0;36m, line \u001b[0;32m1\u001b[0m\n\u001b[0;31m    sbatch mpi.slurm Blbach1a.prm\u001b[0m\n\u001b[0m             ^\u001b[0m\n\u001b[0;31mSyntaxError\u001b[0m\u001b[0;31m:\u001b[0m invalid syntax\n"
     ]
    }
   ],
   "source": [
    "sbatch mpi.slurm Blbach1a.prm"
   ]
  },
  {
   "cell_type": "markdown",
   "metadata": {},
   "source": [
    "If all goes well, you will be returned a job ID number. Whether the job will start running immediately or not depends on the availability of free processors. You can find out the *status* of all your jobs in the queue by typing"
   ]
  },
  {
   "cell_type": "code",
   "execution_count": 11,
   "metadata": {
    "collapsed": true
   },
   "outputs": [
    {
     "ename": "SyntaxError",
     "evalue": "invalid syntax (<ipython-input-11-06fdea6debdf>, line 1)",
     "output_type": "error",
     "traceback": [
      "\u001b[0;36m  File \u001b[0;32m\"<ipython-input-11-06fdea6debdf>\"\u001b[0;36m, line \u001b[0;32m1\u001b[0m\n\u001b[0;31m    squeue -u ^username^\u001b[0m\n\u001b[0m                        ^\u001b[0m\n\u001b[0;31mSyntaxError\u001b[0m\u001b[0;31m:\u001b[0m invalid syntax\n"
     ]
    }
   ],
   "source": [
    "squeue -u ^username^"
   ]
  },
  {
   "cell_type": "markdown",
   "metadata": {},
   "source": [
    "where a status `R` means the job is running, and `QW` means it is still queueing and waiting for the next available set of processors slots. \n",
    "\n",
    "Once the code starts running, it will create a folder to store the results in. The name of the folder is given in the input file. In this example, the folder name is `Blbach1a`. As you see, I named it the same as the input file, but without the `.prm` suffix, so that it is easy to match the input file name and the matching folder name. But you are essentially free to choose whatever folder name you like. \n",
    "\n",
    "The output of the code is stored in two places: a) in a file called `slurm-`^jobID^`.out`, where ^jobID^ refers to the job ID number of the calculation, and b) in the file `Blbach1a/log.txt`. So to check the output that the code is procuding while it is running, you could type:"
   ]
  },
  {
   "cell_type": "code",
   "execution_count": 12,
   "metadata": {
    "collapsed": true
   },
   "outputs": [
    {
     "ename": "SyntaxError",
     "evalue": "invalid syntax (<ipython-input-12-4fd191b2facd>, line 1)",
     "output_type": "error",
     "traceback": [
      "\u001b[0;36m  File \u001b[0;32m\"<ipython-input-12-4fd191b2facd>\"\u001b[0;36m, line \u001b[0;32m1\u001b[0m\n\u001b[0;31m    tail -f Blbach1a/log.txt\u001b[0m\n\u001b[0m                   ^\u001b[0m\n\u001b[0;31mSyntaxError\u001b[0m\u001b[0;31m:\u001b[0m invalid syntax\n"
     ]
    }
   ],
   "source": [
    "tail -f Blbach1a/log.txt"
   ]
  },
  {
   "cell_type": "markdown",
   "metadata": {},
   "source": [
    "The results folder contains a number of other files and folders with information. For example, a subfolder with further output for visualisation using the visualisation software *Paraview* is in the subfolder `solution` (see further details on that below). \n",
    "\n",
    "Perhaps one of the more useful files is the `statistics` file, that can list several physical quantities (like maximum velocity or average temperature) for every time step of the calculation, but also a lot of more technical information, like the number of iterations needed to find the solution for that timestep. The first part of an example of the `statistics` is shown in the figure below. The first 22 lines are preceded by a `#`, and are 'header lines', that contain info on the data to follow below. It describes what data is available in each of the 22 columns below the header lines.\n",
    "![](http://community.dur.ac.uk/jeroen.van-hunen/ASPECT/screenshot_statistics_file.png)"
   ]
  },
  {
   "cell_type": "markdown",
   "metadata": {},
   "source": [
    "## Visualising results\n",
    "### Paraview \n",
    "The most useful tool to visualize results from the calculations is `paraview`. It is already installed on Hamilton, and you can use it by first loading it, and then giving the command to start it:"
   ]
  },
  {
   "cell_type": "code",
   "execution_count": 13,
   "metadata": {
    "collapsed": true
   },
   "outputs": [
    {
     "ename": "SyntaxError",
     "evalue": "invalid syntax (<ipython-input-13-14df370b2fd9>, line 1)",
     "output_type": "error",
     "traceback": [
      "\u001b[0;36m  File \u001b[0;32m\"<ipython-input-13-14df370b2fd9>\"\u001b[0;36m, line \u001b[0;32m1\u001b[0m\n\u001b[0;31m    module load paraview/4.3.1\u001b[0m\n\u001b[0m              ^\u001b[0m\n\u001b[0;31mSyntaxError\u001b[0m\u001b[0;31m:\u001b[0m invalid syntax\n"
     ]
    }
   ],
   "source": [
    "module load paraview/4.3.1\n",
    "paraview&"
   ]
  },
  {
   "cell_type": "markdown",
   "metadata": {},
   "source": [
    "This should now start the graphical user interface. Paraview versions all look slightly different with different versions and on different platforms, but the basic functionality should look very similar. There are a huge number of options with this software, but here we'll just show you the basics to get a first plot produced. Extensive tutorials can be downloaded [here](https://www.paraview.org/Wiki/The_ParaView_Tutorial). To create a first plot, do the following:\n",
    "- click on the 'Open' folder button in the top-left\n",
    "- browse through your folders and go to the subfolder `solution` in the folder where the data for the calculation is stored (in this example `Blbach1a`)\n",
    "- choose the file `solution-..pvtu`\n",
    "- click the blue 'Apply' button: now a grey box should appear\n",
    "- in the drop-down box that says 'Solid Color', choose a quantity you want to visualize: I suggest to take 'T' first, to visualize the temperature field. \n",
    "- Now press the green 'Go' button to start time-stepping through the available snapshots in time.\n",
    "You should see something similar to the plot below: \n",
    "![](http://community.dur.ac.uk/jeroen.van-hunen/ASPECT/paraview_screenshot.png)\n",
    "There is not an awful lot to see in this case, as there are only a few time snapshots stored to file, but in future calculations, looking at the results as an 'animation' will be useful. The options for improving the plots are almost endless, and a few things to add are contours and velocity vectors."
   ]
  },
  {
   "cell_type": "markdown",
   "metadata": {},
   "source": [
    "### Gnuplot\n",
    "Simple line plots (but also much more complex and fancy plots) can be easily made with gnuplot. A basic manual and tutorial can be found [here](https://people.duke.edu/~hpgavin/gnuplot.html), while the main gnuplot webpage (with tutorials, download info and much more) can be found [here](http://www.gnuplot.info/). \n",
    "\n",
    "To get started with a simple example, type the following from the `/ddn/data/^username^/aspect-data` folder:"
   ]
  },
  {
   "cell_type": "code",
   "execution_count": 14,
   "metadata": {
    "collapsed": true
   },
   "outputs": [
    {
     "ename": "SyntaxError",
     "evalue": "invalid syntax (<ipython-input-14-a9d1f89a4f08>, line 1)",
     "output_type": "error",
     "traceback": [
      "\u001b[0;36m  File \u001b[0;32m\"<ipython-input-14-a9d1f89a4f08>\"\u001b[0;36m, line \u001b[0;32m1\u001b[0m\n\u001b[0;31m    module load gnuplot/current\u001b[0m\n\u001b[0m              ^\u001b[0m\n\u001b[0;31mSyntaxError\u001b[0m\u001b[0;31m:\u001b[0m invalid syntax\n"
     ]
    }
   ],
   "source": [
    "module load gnuplot/current\n",
    "gnuplot"
   ]
  },
  {
   "cell_type": "markdown",
   "metadata": {},
   "source": [
    "This will produce a `gnuplot >` prompt, and you can now give gnuplot commands. For example, we can plot two of the coumns of the `statistics` file discussed above: "
   ]
  },
  {
   "cell_type": "code",
   "execution_count": 15,
   "metadata": {
    "collapsed": true
   },
   "outputs": [
    {
     "ename": "SyntaxError",
     "evalue": "invalid syntax (<ipython-input-15-755340be6d13>, line 1)",
     "output_type": "error",
     "traceback": [
      "\u001b[0;36m  File \u001b[0;32m\"<ipython-input-15-755340be6d13>\"\u001b[0;36m, line \u001b[0;32m1\u001b[0m\n\u001b[0;31m    plot \"Blbach1a/statistics\" using 2:12 title 'vrms'\u001b[0m\n\u001b[0m                             ^\u001b[0m\n\u001b[0;31mSyntaxError\u001b[0m\u001b[0;31m:\u001b[0m invalid syntax\n"
     ]
    }
   ],
   "source": [
    "plot \"Blbach1a/statistics\" using 2:12 title 'vrms'"
   ]
  },
  {
   "cell_type": "markdown",
   "metadata": {},
   "source": [
    "You should see something like this: \n",
    "![](http://community.dur.ac.uk/jeroen.van-hunen/ASPECT/gnuplot.png)"
   ]
  },
  {
   "cell_type": "markdown",
   "metadata": {},
   "source": [
    "## Logging on and using Hamilton from your own computer\n",
    "Using your own laptop or desktop to connect interact with Hamilton is described [here](http://community.dur.ac.uk/jeroen.van-hunen/ASPECT/Hamilton_from_own_computer.html)."
   ]
  }
 ],
 "metadata": {
  "kernelspec": {
   "display_name": "Python 3",
   "language": "python",
   "name": "python3"
  },
  "language_info": {
   "codemirror_mode": {
    "name": "ipython",
    "version": 3
   },
   "file_extension": ".py",
   "mimetype": "text/x-python",
   "name": "python",
   "nbconvert_exporter": "python",
   "pygments_lexer": "ipython3",
   "version": "3.7.6"
  }
 },
 "nbformat": 4,
 "nbformat_minor": 2
}
