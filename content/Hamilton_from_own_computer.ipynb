{
 "cells": [
  {
   "cell_type": "markdown",
   "metadata": {},
   "source": [
    "![](http://community.dur.ac.uk/jeroen.van-hunen/ASPECT/DU.png) \n",
    "# Logging on and using Hamilton from your own computer\n",
    "**Jeroen van Hunen and Phil Heron, October 2019**\n",
    "\n",
    "This page explains how to log onto and use the Hamilton HPC cluster using your own Windows, Mac, or Linux PC or laptop, whether you are on the campus or not. There are generally 2 ways to use your local machine:  \n",
    "1. Either all the action (calculations and postprocessing) takes place remotely on Hamilton. In that case, your local machine should have some software to create a 'window into Hamilton' to type in commands for Hamilton, and to view results from postprocessing software that runs on Hamilton. \n",
    "  - a. For Windows and Mac computers, the software package [X2Go](https://wiki.x2go.org) can be used to log into the University's linux system `mira`. For Linux operating systems, this option is trivial, and doesn't require any additional software.\n",
    "  - b. Once you are using a linux system (either through X2Go on `mira` or directly from a Linux machine), you can then log on to Hamilton.\n",
    "2. Or you use a simple *terminal* to run calculations on Hamilton, and then download results from Hamilton to your local machine to do the postprocessing steps.\n",
    "\n",
    "## 1a. Creating a window into a remote linux machine from a Windows or Mac machine using X2Go\n",
    "To use Hamilton from a Windows or Mac machine, we can use the software package [X2Go](https://wiki.x2go.org). This will use the option 1, described above, i.e. all calculations and postprocessing are run on Hamilton, and your Windows machine will provide a 'window into Hamilton'.\n",
    "\n",
    "### X2Go installation\n",
    "\n",
    "#### download and install the X2Go software (updated on 20181006):\n",
    "- Open a web browser and go to https://wiki.x2go.org\n",
    "- In the column on the left, under 'Download', click 'Getting X2Go'\n",
    "- On a Windows computer: \n",
    "  - Under the header 'X2Go Client', there is a box, in which you can click on 'mswin' in the Download option. This will start downloading a setup wizard called 'X2GoClient_latest_mswin32_setup.exe'\n",
    "  - Run the wizard, and answer a few installation questions: choosing the default option/setting is probably fine.\n",
    "- On a Mac: \n",
    "  - Under the header 'X2Go Client', there is a box, in which you can click on two different DMG files in the Download option: one for OS X 10.11 and 10.12, and one for macOS 10.13 and higher. Choose the one that matches your Mac operating system, and download the file.\n",
    "  - Double-click the downloaded file, which opens an install Window. Drag the X2Go icon into the Applications folder. \n",
    "  - To allow installation and running the software, you may hae to allow installation of software that doesn't come from the App store (like this one): Open Apple (top-left) -> System Preferences, then choose 'Security and Privacy'. In the 'General' tab, under 'Allow apps downloaded from:', the X2Go software should be listed, and you should be able to click a button to allow installation.\n",
    "  - Now you should be able to choose the X2Go software from your Applications 'launchpad', and run it. \n",
    "\n",
    "#### Configuring X2Go\n",
    "- From the Windows Start button (bottom-left), run the newly installed 'X2Go Client'\n",
    "- You'll probably see a blue&grey 'X2Go Client' window being opened, and probably also a 'Session preferences - New session' window. If the latter doesn't open automatically, click 'Session' -> 'New session ...'\n",
    "- In the 'Session preferences - New session' window, enter the following info:\n",
    "  - Under 'Host', enter `mira.dur.ac.uk`\n",
    "  - Under 'Login:', enter your CIS username\n",
    "  - Under 'Session type', choose 'MATE'\n",
    "  - click 'OK' at the bottom of the window. Now a light-grey box should appear in the darker-grey area on the right of the 'X2Go Client' window. Your X2Go client is now set up and ready for usage.\n",
    "\n",
    "### Using X2Go\n",
    "- If not already open, start X2Go: from the Windows Start button (bottom-left), click 'X2Go Client', which will open the blue & grey window.\n",
    "- Click the light-grey 'New session' in the dark-grey area on the left and press enter. It should now ask you for your CIS password.\n",
    "- When running the session for the first time, it will probably warn you that the 'Host key verification failed', and asks 'Do you trust the host key?'. This is normal, and you can sefely click 'Yes'.\n",
    "- It should now go through the connection procedure, and a new Window will open called 'New Session'. This is essentially your terminal on the 'mira' server, which should look very similar to the one you would get when logging onto a linux machine on one of the computers on the campus.\n",
    "\n",
    "## 1b. Logging onto Hamilton\n",
    "Open a text 'terminal'. On `mira`, this can be done by clicking on the black 'terminal' screen in top task bar, but if you are using your own linux machine, opening a terminal might be done in a slightly different way.\n",
    "\n",
    "From `mira`, type the following command in the terminal:"
   ]
  },
  {
   "cell_type": "code",
   "execution_count": null,
   "metadata": {
    "collapsed": true
   },
   "outputs": [],
   "source": [
    "ssh -X hamilton"
   ]
  },
  {
   "cell_type": "markdown",
   "metadata": {},
   "source": [
    "or from any other linux machine, type:"
   ]
  },
  {
   "cell_type": "code",
   "execution_count": null,
   "metadata": {
    "collapsed": true
   },
   "outputs": [],
   "source": [
    "ssh -X ^username^@hamilton.dur.ac.uk"
   ]
  },
  {
   "cell_type": "markdown",
   "metadata": {},
   "source": [
    "(where `^username^` should be replaced with your CIS username), and provide your CIS password. (Note that the `-X` option will allow the remote machine (i.e. Hamilton) to open windows on the machine that the terminal is run from (either `mira` or your local linux machine)). You should now be logged into the Hamilton HPC cluster."
   ]
  }
 ],
 "metadata": {
  "kernelspec": {
   "display_name": "Python 3",
   "language": "python",
   "name": "python3"
  },
  "language_info": {
   "codemirror_mode": {
    "name": "ipython",
    "version": 3
   },
   "file_extension": ".py",
   "mimetype": "text/x-python",
   "name": "python",
   "nbconvert_exporter": "python",
   "pygments_lexer": "ipython3",
   "version": "3.7.4"
  }
 },
 "nbformat": 4,
 "nbformat_minor": 2
}
