{
 "cells": [
  {
   "cell_type": "markdown",
   "metadata": {},
   "source": [
    "![](http://community.dur.ac.uk/jeroen.van-hunen/ASPECT/logos.png) \n",
    "\n",
    "# Starting with ASPECT\n",
    "\n",
    "**Jeroen van Hunen and Phil Heron October 2019**\n",
    "\n",
    "This document is to introduce the geodynamical software ASPECT and its postprocessing. The most recent copy of the very extensive and useful ASPECT user guide is available  [here](http://www.math.clemson.edu/~heister/manual.pdf). "
   ]
  },
  {
   "cell_type": "markdown",
   "metadata": {},
   "source": [
    "## Linux and Hamilton \n",
    "In computer room CG65 or similar: \n",
    "- Start computer\n",
    "- Choose 'Boot Linux from local HDD'\n",
    "- type your CIS username and password\n",
    "- (first time usage only) Click Accept to agree with University regulations\n",
    "- click on the black 'terminal' screen in top task bar\n",
    "- type the following info in the terminal window:"
   ]
  },
  {
   "cell_type": "code",
   "execution_count": null,
   "metadata": {
    "collapsed": true
   },
   "outputs": [],
   "source": [
    "ssh -X hamilton"
   ]
  },
  {
   "cell_type": "markdown",
   "metadata": {},
   "source": [
    "and provide your CIS password. You should now be logged into the Hamilton HPC cluster. For the tasks below, you will also need a browser, and you can start Firefox from the menu on the top-left."
   ]
  },
  {
   "cell_type": "markdown",
   "metadata": {},
   "source": [
    "## ASPECT installation\n",
    "We first need to install ASPECT. Unless there are some major upgrades throughout the year, or if you are modifying ASPECT, you should have to do this only once. Depending on the installation version, this will probably take up to a couple of hours. \n",
    "\n",
    "Here are the different options: \n",
    "- Phil Heron has created an installation guide, which can be found [here](https://philheron.com/aspect-hamilton/). This is a full installation of everything, from the underlying `deal.ii` finite element source code to ASPECT itself.\n",
    "- You can also start with an existing `deal.ii` installation of version 9.0.0, which significantly reduces the installation time and complexity. This is described [here](http://community.dur.ac.uk/jeroen.van-hunen/ASPECT/ASPECT_installation.html).\n",
    "- Or you may simply want to use a pre-installed version of ASPECT. If so, you could use the following installation on hamilton, which was created on 10th October, 2019: \\\\\n",
    "/ddn/data/dgl6jv1/public/aspect "
   ]
  },
  {
   "cell_type": "markdown",
   "metadata": {},
   "source": [
    "## Running calculations on Hamilton\n",
    "The first time we are going to run a calculation, we need to create a folder from where to run the model calculations. To store the data in a location with enough capacity, we will use again the `/ddn/data/^username^/` folder (where `^username^` should be replaced with your CIS username. So log into hamilton again, and run the following commands:"
   ]
  },
  {
   "cell_type": "code",
   "execution_count": null,
   "metadata": {
    "collapsed": true
   },
   "outputs": [],
   "source": [
    "cd /ddn/data/^username^\n",
    "mkdir aspect-data\n",
    "cd aspect-data"
   ]
  },
  {
   "cell_type": "markdown",
   "metadata": {},
   "source": [
    "You'll only have to do this once. So next time, you log onto hamilton, you can go straight to the data folder:"
   ]
  },
  {
   "cell_type": "code",
   "execution_count": null,
   "metadata": {
    "collapsed": true
   },
   "outputs": [],
   "source": [
    "cd /ddn/data/^username^/aspect-data"
   ]
  },
  {
   "cell_type": "markdown",
   "metadata": {},
   "source": [
    "Now you will need to copy over the aspect executable from the previous section to your local working folder:"
   ]
  },
  {
   "cell_type": "code",
   "execution_count": null,
   "metadata": {
    "collapsed": true
   },
   "outputs": [],
   "source": [
    "cd /ddn/data/^username^/aspect-data\n",
    "cp ^location-of-aspect-executable^/^aspect-executable-name^ ."
   ]
  },
  {
   "cell_type": "markdown",
   "metadata": {},
   "source": [
    "You'll also need to create an ASPECT input file, or copy one over to this folder. For the first ASPECT calculation, I suggest we use the following input file, called Blbach1a.prm."
   ]
  },
  {
   "cell_type": "code",
   "execution_count": null,
   "metadata": {
    "collapsed": true
   },
   "outputs": [],
   "source": [
    "cp /ddn/data/dgl6jv1/public/Blbach1a.prm .\n",
    "nano Blbach1a.prm"
   ]
  },
  {
   "cell_type": "markdown",
   "metadata": {},
   "source": [
    "This will open an *editor* in Hamilton, which, in this case, can be used to add or change text to the file `Blbach1a.prm`. Now highlight the text on the browser page, copy it (control-C), and paste it into the editor. Now save the file (control-O and then control-X).\n",
    "\n",
    "Now we have an input file for a simple convection calculation in a square unit-size box for a given Rayleigh number. The vigour of convection and resulting heat flow at the surface of the box have been calculated by many different modellers, and published in a classic paper by Blankenbach et al. (1989), and can be found [here](https://academic.oup.com/gji/article/98/1/23/622167). So we know rather exactly what the results of this calculation should be, and our ASPECT calculation should be able to give similar results. \n",
    "\n",
    "Next, we would like to run the calculation on Hamilton. If you've done the short course on Hamilton usage, you'll now know that you'll need a submission script. A example can be copied over and opened as follows: "
   ]
  },
  {
   "cell_type": "code",
   "execution_count": null,
   "metadata": {
    "collapsed": true
   },
   "outputs": [],
   "source": [
    "cp /ddn/data/dgl6jv1/public/mpi.slurm .\n",
    "nano mpi.slurm"
   ]
  },
  {
   "cell_type": "markdown",
   "metadata": {},
   "source": [
    "Now we need to make a few changes to the file. So scroll down to the end of the file. The line "
   ]
  },
  {
   "cell_type": "code",
   "execution_count": null,
   "metadata": {
    "collapsed": true
   },
   "outputs": [],
   "source": [
    "#SBATCH -n 8"
   ]
  },
  {
   "cell_type": "markdown",
   "metadata": {},
   "source": [
    "refers to the number of processors used in the calculation. Change the number if you like. But keep in mind that the number should correspond to the number in the last line:"
   ]
  },
  {
   "cell_type": "code",
   "execution_count": null,
   "metadata": {
    "collapsed": true
   },
   "outputs": [],
   "source": [
    "mpirun -np 8 ./aspect.rel $1"
   ]
  },
  {
   "cell_type": "markdown",
   "metadata": {},
   "source": [
    "In this last line, the text `./aspect.rel` refers to the name of the ASPECT executable, which is, in this case, named `aspect.rel` and placed in the folder `.` (which is the folder you are presently located in). If you named your executable differently, you'll need to change it here.\n",
    "\n",
    "Finally, we need to specify the job queue in which we want to place the calculation. There are three useful queues we can use, and they are named `par6.q`, `par7.q`, and `test.q`. Which one to choose depends on the type of model: `par6.q` and `par7.q` are normally used for larger calculations lasting more than an hour (up to 72 hours). But if you have a small calculation running less than an hour, you can choose the `test.q` queue, which allows a maximum of 12 processors, and will automatically stop if the calculation lasts longer than an hour. The queue choice may also depend on how musy each of the queues is. Use "
   ]
  },
  {
   "cell_type": "code",
   "execution_count": null,
   "metadata": {
    "collapsed": true
   },
   "outputs": [],
   "source": [
    "sfree"
   ]
  },
  {
   "cell_type": "markdown",
   "metadata": {},
   "source": [
    "to see how many processors are available in each queue. Once you are happy with the modifications of the `mpi.slurm` file, close it. \n",
    "\n",
    "Finally, we need to copy over the aspect executable to the folder where we are running the calculations. Check where your aspect executable `aspect.rel` was created (if you followed Phil's installation guide, it is probably in `/ddn/data/^username^/install/aspect/`):"
   ]
  },
  {
   "cell_type": "code",
   "execution_count": null,
   "metadata": {
    "collapsed": true
   },
   "outputs": [],
   "source": [
    "cp /ddn/data/^username^/install/aspect/aspect.rel ."
   ]
  },
  {
   "cell_type": "markdown",
   "metadata": {},
   "source": [
    "Now it is time to run the calculation, by typing the following commands:  "
   ]
  },
  {
   "cell_type": "code",
   "execution_count": null,
   "metadata": {
    "collapsed": true
   },
   "outputs": [],
   "source": [
    "sbatch mpi.slurm Blbach1a.prm"
   ]
  },
  {
   "cell_type": "markdown",
   "metadata": {},
   "source": [
    "If all goes well, you will be returned a job ID number. Whether the job will start running immediately or not depends on the availability of free processors. You can find out the *status* of all your jobs in the queue by typing"
   ]
  },
  {
   "cell_type": "code",
   "execution_count": null,
   "metadata": {
    "collapsed": true
   },
   "outputs": [],
   "source": [
    "squeue -u ^username^"
   ]
  },
  {
   "cell_type": "markdown",
   "metadata": {},
   "source": [
    "where a status `R` means the job is running, and `QW` means it is still queueing and waiting for the next available set of processors slots. \n",
    "\n",
    "Once the code starts running, it will create a folder to store the results in. The name of the folder is given in the input file. In this example, the folder name is `Blbach1a`. As you see, I named it the same as the input file, but without the `.prm` suffix, so that it is easy to match the input file name and the matching folder name. But you are essentially free to choose whatever folder name you like. \n",
    "\n",
    "The output of the code is stored in two places: a) in a file called `slurm-`^jobID^`.out`, where ^jobID^ refers to the job ID number of the calculation, and b) in the file `Blbach1a/log.txt`. So to check the output that the code is procuding while it is running, you could type:"
   ]
  },
  {
   "cell_type": "code",
   "execution_count": null,
   "metadata": {
    "collapsed": true
   },
   "outputs": [],
   "source": [
    "tail -f Blbach1a/log.txt"
   ]
  },
  {
   "cell_type": "markdown",
   "metadata": {},
   "source": [
    "The results folder contains a number of other files and folders with information. For example, a subfolder with further output for visualisation using the visualisation software *Paraview* is in the subfolder `solution` (see further details on that below). \n",
    "\n",
    "Perhaps one of the more useful files is the `statistics` file, that can list several physical quantities (like maximum velocity or average temperature) for every time step of the calculation, but also a lot of more technical information, like the number of iterations needed to find the solution for that timestep. The first part of an example of the `statistics` is shown in the figure below. The first 22 lines are preceded by a `#`, and are 'header lines', that contain info on the data to follow below. It describes what data is available in each of the 22 columns below the header lines.\n",
    "![](http://community.dur.ac.uk/jeroen.van-hunen/ASPECT/screenshot_statistics_file.png)"
   ]
  },
  {
   "cell_type": "markdown",
   "metadata": {},
   "source": [
    "## Visualising results\n",
    "### Paraview \n",
    "The most useful tool to visualize results from the calculations is `paraview`. It is already installed on Hamilton, and you can use it by first loading it, and then giving the command to start it:"
   ]
  },
  {
   "cell_type": "code",
   "execution_count": null,
   "metadata": {
    "collapsed": true
   },
   "outputs": [],
   "source": [
    "module load paraview/4.3.1\n",
    "paraview&"
   ]
  },
  {
   "cell_type": "markdown",
   "metadata": {},
   "source": [
    "This should now start the graphical user interface. Paraview versions all look slightly different with different versions and on different platforms, but the basic functionality should look very similar. There are a huge number of options with this software, but here we'll just show you the basics to get a first plot produced. Extensive tutorials can be downloaded [here](https://www.paraview.org/Wiki/The_ParaView_Tutorial). To create a first plot, do the following:\n",
    "- click on the 'Open' folder button in the top-left\n",
    "- browse through your folders and go to the subfolder `solution` in the folder where the data for the calculation is stored (in this example `Blbach1a`)\n",
    "- choose the file `solution-..pvtu`\n",
    "- click the blue 'Apply' button: now a grey box should appear\n",
    "- in the drop-down box that says 'Solid Color', choose a quantity you want to visualize: I suggest to take 'T' first, to visualize the temperature field. \n",
    "- Now press the green 'Go' button to start time-stepping through the available snapshots in time.\n",
    "You should see something similar to the plot below: \n",
    "![](http://community.dur.ac.uk/jeroen.van-hunen/ASPECT/paraview_screenshot.png)\n",
    "There is not an awful lot to see in this case, as there are only a few time snapshots stored to file, but in future calculations, looking at the results as an 'animation' will be useful. The options for improving the plots are almost endless, and a few things to add are contours and velocity vectors."
   ]
  },
  {
   "cell_type": "markdown",
   "metadata": {},
   "source": [
    "### Gnuplot\n",
    "Simple line plots (but also much more complex and fancy plots) can be easily made with gnuplot. A basic manual and tutorial can be found [here](https://people.duke.edu/~hpgavin/gnuplot.html), while the main gnuplot webpage (with tutorials, download info and much more) can be found [here](http://www.gnuplot.info/). \n",
    "\n",
    "To get started with a simple example, type the following from the `/ddn/data/^username^/aspect-data` folder:"
   ]
  },
  {
   "cell_type": "code",
   "execution_count": null,
   "metadata": {
    "collapsed": true
   },
   "outputs": [],
   "source": [
    "module load gnuplot/current\n",
    "gnuplot"
   ]
  },
  {
   "cell_type": "markdown",
   "metadata": {},
   "source": [
    "This will produce a `gnuplot >` prompt, and you can now give gnuplot commands. For example, we can plot two of the coumns of the `statistics` file discussed above: "
   ]
  },
  {
   "cell_type": "code",
   "execution_count": null,
   "metadata": {
    "collapsed": true
   },
   "outputs": [],
   "source": [
    "plot \"Blbach1a/statistics\" using 2:12 title 'vrms'"
   ]
  },
  {
   "cell_type": "markdown",
   "metadata": {},
   "source": [
    "You should see something like this: \n",
    "![](http://community.dur.ac.uk/jeroen.van-hunen/ASPECT/gnuplot.png)"
   ]
  },
  {
   "cell_type": "markdown",
   "metadata": {},
   "source": [
    "## Logging on and using Hamilton from your own computer\n",
    "Using your own laptop or desktop to connect interact with Hamilton is described [here](http://community.dur.ac.uk/jeroen.van-hunen/ASPECT/Hamilton_from_own_computer.html)."
   ]
  }
 ],
 "metadata": {
  "kernelspec": {
   "display_name": "Python 3",
   "language": "python",
   "name": "python3"
  },
  "language_info": {
   "codemirror_mode": {
    "name": "ipython",
    "version": 3
   },
   "file_extension": ".py",
   "mimetype": "text/x-python",
   "name": "python",
   "nbconvert_exporter": "python",
   "pygments_lexer": "ipython3",
   "version": "3.7.4"
  }
 },
 "nbformat": 4,
 "nbformat_minor": 2
}
